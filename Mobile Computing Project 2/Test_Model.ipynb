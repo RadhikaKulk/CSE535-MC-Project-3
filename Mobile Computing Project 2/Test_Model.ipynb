{
  "nbformat": 4,
  "nbformat_minor": 0,
  "metadata": {
    "colab": {
      "provenance": []
    },
    "kernelspec": {
      "name": "python3",
      "display_name": "Python 3"
    },
    "language_info": {
      "name": "python"
    }
  },
  "cells": [
    {
      "cell_type": "code",
      "source": [
        "from tensorflow.keras.models import load_model\n",
        "import cv2\n",
        "import numpy as np\n",
        "import matplotlib.pyplot as plt"
      ],
      "metadata": {
        "id": "iTjoGi-S3sl1"
      },
      "execution_count": 2,
      "outputs": []
    },
    {
      "cell_type": "code",
      "source": [
        "def crop_square(img, size, interpolation=cv2.INTER_AREA):\n",
        "    h, w = img.shape[:2]\n",
        "    min_size = np.amin([h,w])\n",
        "\n",
        "    # Centralize and crop\n",
        "    crop_img = img[int(h/2-min_size/2):int(h/2+min_size/2), int(w/2-min_size/2):int(w/2+min_size/2)]\n",
        "    resized = cv2.resize(crop_img, (size, size), interpolation=interpolation)\n",
        "\n",
        "    return resized"
      ],
      "metadata": {
        "id": "8pnKEjLJ1sIU"
      },
      "execution_count": 32,
      "outputs": []
    },
    {
      "cell_type": "code",
      "execution_count": 35,
      "metadata": {
        "id": "FCR4DGhO3ilF"
      },
      "outputs": [],
      "source": [
        "def predict_digit(image):\n",
        "  model = load_model(\"/try_2.h5\")\n",
        "  if(len(image.shape)==3):\n",
        "    img_gray = cv2.cvtColor(image.copy(), cv2.COLOR_BGR2GRAY)\n",
        "  else:\n",
        "    img_gray = image.copy()\n",
        "  kernel = np.ones((5, 5), np.uint8)\n",
        "  img_eroded = cv2.erode(img_gray, kernel, iterations=10)\n",
        "\n",
        "  ret, mask = cv2.threshold(img_eroded.copy(), 120, 255, cv2.THRESH_BINARY_INV)\n",
        "  contours, hierarchy = cv2.findContours(mask.copy(), cv2.RETR_EXTERNAL, cv2.CHAIN_APPROX_SIMPLE)\n",
        "  #Getting the contour with maximum area\n",
        "  c = max(contours, key=cv2.contourArea)\n",
        "  x,y,w,h = cv2.boundingRect(c)\n",
        "  #Boundary for visualization\n",
        "  cv2.rectangle(image, (x,y), (x+w, y+h), color=(0, 255, 0), thickness=2)\n",
        "  #Croppping the thresholded image and adding 50 pixels as padding\n",
        "  digit = mask[max(y-50, 0):min(y+h+50, image.shape[0]), min(x-50, 0):max(x+w+50, image.shape[1])]\n",
        "  #Resizing it to match the size of training images\n",
        "  resized_digit = crop_square(digit, 18)\n",
        "  padded_digit = np.pad(resized_digit, ((5,5),(5,5)), \"constant\", constant_values=0)\n",
        "\n",
        "  image_to_test = np.array(padded_digit)\n",
        "  prediction = model.predict(image_to_test.reshape(1, 28, 28, 1))\n",
        "  plt.imshow(image_to_test.reshape(28, 28), cmap=\"gray\")\n",
        "  plt.show()\n",
        "  print(\"Output predicted by the model:{}\".format(np.argmax(prediction)))\n",
        "  return np.argmax(prediction)"
      ]
    },
    {
      "cell_type": "code",
      "source": [
        "correct = []\n",
        "for i in range(10):\n",
        "  image = cv2.imread(f'/content/drive/MyDrive/Number_{i}.jpg')\n",
        "  pred = predict_digit(image)\n",
        "  print(\"i\", i, \"pred\", pred)\n",
        "  if i == pred:\n",
        "    correct.append(i)\n",
        "print(\"CORRECT :\", correct)"
      ],
      "metadata": {
        "colab": {
          "base_uri": "https://localhost:8080/",
          "height": 1000
        },
        "id": "BOsYXRx55tfH",
        "outputId": "2faf4e2b-d343-4313-849c-062b262e95cd"
      },
      "execution_count": 36,
      "outputs": [
        {
          "output_type": "stream",
          "name": "stdout",
          "text": [
            "1/1 [==============================] - 0s 52ms/step\n"
          ]
        },
        {
          "output_type": "display_data",
          "data": {
            "text/plain": [
              "<Figure size 432x288 with 1 Axes>"
            ],
            "image/png": "[encoded data removed]"
          },
          "metadata": {
            "needs_background": "light"
          }
        },
        {
          "output_type": "stream",
          "name": "stdout",
          "text": [
            "Output predicted by the model:0\n",
            "i 0 pred 0\n",
            "1/1 [==============================] - 0s 45ms/step\n"
          ]
        },
        {
          "output_type": "display_data",
          "data": {
            "text/plain": [
              "<Figure size 432x288 with 1 Axes>"
            ],
            "image/png": "[encoded data removed]"
          },
          "metadata": {
            "needs_background": "light"
          }
        },
        {
          "output_type": "stream",
          "name": "stdout",
          "text": [
            "Output predicted by the model:1\n",
            "i 1 pred 1\n",
            "1/1 [==============================] - 0s 44ms/step\n"
          ]
        },
        {
          "output_type": "display_data",
          "data": {
            "text/plain": [
              "<Figure size 432x288 with 1 Axes>"
            ],
            "image/png": "[encoded data removed]"
          },
          "metadata": {
            "needs_background": "light"
          }
        },
        {
          "output_type": "stream",
          "name": "stdout",
          "text": [
            "Output predicted by the model:2\n",
            "i 2 pred 2\n",
            "1/1 [==============================] - 0s 43ms/step\n"
          ]
        },
        {
          "output_type": "display_data",
          "data": {
            "text/plain": [
              "<Figure size 432x288 with 1 Axes>"
            ],
            "image/png": "[encoded data removed]"
          },
          "metadata": {
            "needs_background": "light"
          }
        },
        {
          "output_type": "stream",
          "name": "stdout",
          "text": [
            "Output predicted by the model:3\n",
            "i 3 pred 3\n",
            "1/1 [==============================] - 0s 48ms/step\n"
          ]
        },
        {
          "output_type": "display_data",
          "data": {
            "text/plain": [
              "<Figure size 432x288 with 1 Axes>"
            ],
            "image/png": "[encoded data removed]"
          },
          "metadata": {
            "needs_background": "light"
          }
        },
        {
          "output_type": "stream",
          "name": "stdout",
          "text": [
            "Output predicted by the model:4\n",
            "i 4 pred 4\n",
            "1/1 [==============================] - 0s 49ms/step\n"
          ]
        },
        {
          "output_type": "display_data",
          "data": {
            "text/plain": [
              "<Figure size 432x288 with 1 Axes>"
            ],
            "image/png": "[encoded data removed]"
          },
          "metadata": {
            "needs_background": "light"
          }
        },
        {
          "output_type": "stream",
          "name": "stdout",
          "text": [
            "Output predicted by the model:5\n",
            "i 5 pred 5\n",
            "1/1 [==============================] - 0s 47ms/step\n"
          ]
        },
        {
          "output_type": "display_data",
          "data": {
            "text/plain": [
              "<Figure size 432x288 with 1 Axes>"
            ],
            "image/png": "[encoded data removed]"
          },
          "metadata": {
            "needs_background": "light"
          }
        },
        {
          "output_type": "stream",
          "name": "stdout",
          "text": [
            "Output predicted by the model:6\n",
            "i 6 pred 6\n",
            "1/1 [==============================] - 0s 51ms/step\n"
          ]
        },
        {
          "output_type": "display_data",
          "data": {
            "text/plain": [
              "<Figure size 432x288 with 1 Axes>"
            ],
            "image/png": "[encoded data removed]"
          },
          "metadata": {
            "needs_background": "light"
          }
        },
        {
          "output_type": "stream",
          "name": "stdout",
          "text": [
            "Output predicted by the model:7\n",
            "i 7 pred 7\n",
            "1/1 [==============================] - 0s 56ms/step\n"
          ]
        },
        {
          "output_type": "display_data",
          "data": {
            "text/plain": [
              "<Figure size 432x288 with 1 Axes>"
            ],
            "image/png": "[encoded data removed]"
          },
          "metadata": {
            "needs_background": "light"
          }
        },
        {
          "output_type": "stream",
          "name": "stdout",
          "text": [
            "Output predicted by the model:8\n",
            "i 8 pred 8\n",
            "1/1 [==============================] - 0s 48ms/step\n"
          ]
        },
        {
          "output_type": "display_data",
          "data": {
            "text/plain": [
              "<Figure size 432x288 with 1 Axes>"
            ],
            "image/png": "[encoded data removed]"
          },
          "metadata": {
            "needs_background": "light"
          }
        },
        {
          "output_type": "stream",
          "name": "stdout",
          "text": [
            "Output predicted by the model:9\n",
            "i 9 pred 9\n",
            "CORRECT : [0, 1, 2, 3, 4, 5, 6, 7, 8, 9]\n"
          ]
        }
      ]
    }
  ]
}