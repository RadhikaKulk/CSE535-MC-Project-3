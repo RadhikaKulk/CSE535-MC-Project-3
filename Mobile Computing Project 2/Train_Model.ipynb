{
  "nbformat": 4,
  "nbformat_minor": 0,
  "metadata": {
    "colab": {
      "provenance": [],
      "collapsed_sections": []
    },
    "kernelspec": {
      "name": "python3",
      "display_name": "Python 3"
    },
    "language_info": {
      "name": "python"
    }
  },
  "cells": [
    {
      "cell_type": "code",
      "execution_count": null,
      "metadata": {
        "id": "Kh1UFKWzSBjn"
      },
      "outputs": [],
      "source": [
        "#Imports Needed\n",
        "import matplotlib.pyplot as plt\n",
        "import cv2\n",
        "import tensorflow as tf\n",
        "import numpy as np\n",
        "from keras.datasets import mnist\n",
        "from keras.layers import Dense, Flatten\n",
        "from keras.layers.convolutional import Conv2D\n",
        "from keras.models import Sequential\n",
        "from keras.utils import to_categorical"
      ]
    },
    {
      "cell_type": "code",
      "source": [
        "#Loading the dataset\n",
        "(x_train, y_train), (x_test, y_test) = mnist.load_data()"
      ],
      "metadata": {
        "id": "0nHSqbRTSYLk"
      },
      "execution_count": null,
      "outputs": []
    },
    {
      "cell_type": "code",
      "source": [
        "#Understanding the dataset\n",
        "print (\"Number of images in training dataset: {}\".format(len(x_train)))\n",
        "print (\"Number of images in testing dataset: {}\".format(len(x_test)))\n",
        "print (\"Shape of training image: {}\".format(x_train[0].shape))\n",
        "print (\"Shape of testing image: {}\".format(x_test[0].shape))"
      ],
      "metadata": {
        "colab": {
          "base_uri": "https://localhost:8080/"
        },
        "id": "P2mM-CIHSw9q",
        "outputId": "62a7008e-fdb8-4fc1-dd47-670b9042e778"
      },
      "execution_count": null,
      "outputs": [
        {
          "output_type": "stream",
          "name": "stdout",
          "text": [
            "Number of images in training dataset: 60000\n",
            "Number of images in testing dataset: 10000\n",
            "Shape of training image: (28, 28)\n",
            "Shape of testing image: (28, 28)\n"
          ]
        }
      ]
    },
    {
      "cell_type": "code",
      "source": [
        "x_train = x_train.reshape(60000, 28, 28, 1)\n",
        "x_test = x_test.reshape(10000, 28, 28, 1)"
      ],
      "metadata": {
        "id": "_EcvjMHTS94p"
      },
      "execution_count": null,
      "outputs": []
    },
    {
      "cell_type": "code",
      "source": [
        "print (\"Shape of training image after reshape: {}\".format(x_train[0].shape))\n",
        "print (\"Shape of testing image after reshape: {}\".format(x_test[0].shape))"
      ],
      "metadata": {
        "colab": {
          "base_uri": "https://localhost:8080/"
        },
        "id": "ZogvDbknTChC",
        "outputId": "eedc8cc1-a834-45c0-ef94-db36965896cf"
      },
      "execution_count": null,
      "outputs": [
        {
          "output_type": "stream",
          "name": "stdout",
          "text": [
            "Shape of training image after reshape: (28, 28, 1)\n",
            "Shape of testing image after reshape: (28, 28, 1)\n"
          ]
        }
      ]
    },
    {
      "cell_type": "code",
      "source": [
        "y_train = to_categorical(y_train)\n",
        "y_test = to_categorical(y_test)"
      ],
      "metadata": {
        "id": "2O-zFoViTJi6"
      },
      "execution_count": null,
      "outputs": []
    },
    {
      "cell_type": "code",
      "source": [
        "#Building the model\n",
        "model = Sequential([\n",
        "Conv2D(32, kernel_size=3, activation='relu', input_shape=(28, 28, 1)),\n",
        "Conv2D(64, kernel_size=3, activation='relu'),\n",
        "Flatten(),\n",
        "Dense(10, activation='softmax')])"
      ],
      "metadata": {
        "id": "WmpGB4tzTNjg"
      },
      "execution_count": null,
      "outputs": []
    },
    {
      "cell_type": "code",
      "source": [
        "model.compile(optimizer='adam', loss='categorical_crossentropy', metrics=['accuracy'])"
      ],
      "metadata": {
        "id": "_y6VXJNGTtdu"
      },
      "execution_count": null,
      "outputs": []
    },
    {
      "cell_type": "code",
      "source": [
        "#Training the model on training data\n",
        "history = model.fit(x_train, y_train, validation_data=(x_test, y_test), epochs=10)"
      ],
      "metadata": {
        "colab": {
          "base_uri": "https://localhost:8080/"
        },
        "id": "pYBHKURkTxa0",
        "outputId": "962762a7-51db-4e7e-b696-d66ebf9246bc"
      },
      "execution_count": 15,
      "outputs": [
        {
          "output_type": "stream",
          "name": "stdout",
          "text": [
            "Epoch 1/3\n",
            "1875/1875 [==============================] - 168s 90ms/step - loss: 0.0178 - accuracy: 0.9980 - val_loss: 0.5484 - val_accuracy: 0.9820\n",
            "Epoch 2/3\n",
            "1875/1875 [==============================] - 165s 88ms/step - loss: 0.0214 - accuracy: 0.9977 - val_loss: 0.4722 - val_accuracy: 0.9834\n",
            "Epoch 3/3\n",
            "1875/1875 [==============================] - 166s 89ms/step - loss: 0.0111 - accuracy: 0.9987 - val_loss: 0.5075 - val_accuracy: 0.9813\n"
          ]
        }
      ]
    },
    {
      "cell_type": "code",
      "source": [
        "model.save(\"/content/drive/MyDrive/trained_model.h5\")"
      ],
      "metadata": {
        "id": "vMzOoP1yZFs0"
      },
      "execution_count": 16,
      "outputs": []
    },
    {
      "cell_type": "code",
      "source": [
        "from google.colab import drive\n",
        "drive.mount('/content/drive')"
      ],
      "metadata": {
        "colab": {
          "base_uri": "https://localhost:8080/"
        },
        "id": "lFCwQBizW0zn",
        "outputId": "2e02076a-aa87-4369-95fd-a6dba0c07d77"
      },
      "execution_count": null,
      "outputs": [
        {
          "output_type": "stream",
          "name": "stdout",
          "text": [
            "Mounted at /content/drive\n"
          ]
        }
      ]
    },
    {
      "cell_type": "code",
      "source": [],
      "metadata": {
        "id": "bHBY1UP26A74"
      },
      "execution_count": null,
      "outputs": []
    }
  ]
}